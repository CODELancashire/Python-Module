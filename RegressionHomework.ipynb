{
 "cells": [
  {
   "cell_type": "markdown",
   "id": "95586843",
   "metadata": {},
   "source": [
    "<h1>Homework</h1>\n",
    "\n",
    "The objective is to create a regression model using machine learning. \n",
    "\n",
    "You can work with the data science salary or pick a new dataset from [Kaggle](https://www.kaggle.com/datasets?tags=14203-Regression) .\n",
    "\n",
    "If you are selecting a new dataset be mindful of the \"usability\" score as it is an indication of how much work you will have to put on pre processing the data.\n",
    "\n",
    "You can use the lecture notebooks as a guide but you are free to use any methods and tools you like.\n",
    "\n",
    "Don't forget that understanding the data is part of the process.\n",
    "\n",
    "And, above all, try to enjoy the process and be kind to yourself when you get stuck."
   ]
  },
  {
   "cell_type": "code",
   "execution_count": null,
   "id": "7cd1d065",
   "metadata": {},
   "outputs": [],
   "source": []
  }
 ],
 "metadata": {
  "kernelspec": {
   "display_name": "Python 3 (ipykernel)",
   "language": "python",
   "name": "python3"
  },
  "language_info": {
   "codemirror_mode": {
    "name": "ipython",
    "version": 3
   },
   "file_extension": ".py",
   "mimetype": "text/x-python",
   "name": "python",
   "nbconvert_exporter": "python",
   "pygments_lexer": "ipython3",
   "version": "3.10.8"
  }
 },
 "nbformat": 4,
 "nbformat_minor": 5
}
