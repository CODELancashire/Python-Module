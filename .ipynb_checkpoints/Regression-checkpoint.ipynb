{
 "cells": [
  {
   "cell_type": "markdown",
   "id": "2e679331",
   "metadata": {},
   "source": [
    "<h1>Introduction to regression</h1>\n",
    "In this notebook we will have an overview of regression and how scikit-learn can be used to regress data."
   ]
  },
  {
   "cell_type": "code",
   "execution_count": null,
   "id": "40871aaf",
   "metadata": {},
   "outputs": [],
   "source": [
    "# Importing the holy trinity of data science.\n",
    "import pandas as pd\n",
    "import matplotlib.pyplot as plt\n",
    "import numpy as np\n",
    "\n",
    "# getting seaborn online to give our graphics a kick.\n",
    "import seaborn as sns\n",
    "sns.set()"
   ]
  },
  {
   "cell_type": "markdown",
   "id": "93e51da6",
   "metadata": {},
   "source": [
    "First, let us work towards building an intuition of the problem at hand by considering the dataset ds1 below,"
   ]
  },
  {
   "cell_type": "code",
   "execution_count": null,
   "id": "6231d87c",
   "metadata": {},
   "outputs": [],
   "source": [
    "ds1 = [0,1,2,3,4,5,6]\n",
    "plt.plot(ds1, marker='*',linestyle='')"
   ]
  },
  {
   "cell_type": "markdown",
   "id": "72df9f31",
   "metadata": {},
   "source": [
    "Assuming that the red dot in the plot is a continuation of the dataset ds1 how can you workout the continuation of the this sequence?"
   ]
  },
  {
   "cell_type": "code",
   "execution_count": null,
   "id": "88ff57bd",
   "metadata": {},
   "outputs": [],
   "source": [
    "plt.plot(ds1, marker='*',linestyle='')\n",
    "plt.scatter(np.arange(6,10),np.arange(7,11),c='r')"
   ]
  },
  {
   "cell_type": "markdown",
   "id": "a1757f4c",
   "metadata": {},
   "source": [
    "Linear equations take the shape:\n",
    "\n",
    "$$ Y = aX+b$$\n",
    "\n",
    "From this, all we need is two points to workout the coefficient $$a$$ and knowing the value of $$Y(X=0)$$ to obtain B."
   ]
  },
  {
   "cell_type": "code",
   "execution_count": null,
   "id": "9c04fa81",
   "metadata": {},
   "outputs": [],
   "source": []
  },
  {
   "cell_type": "markdown",
   "id": "f05661e8",
   "metadata": {},
   "source": [
    "Question, would this logic work for the dataset plotted below?"
   ]
  },
  {
   "cell_type": "code",
   "execution_count": null,
   "id": "953c14d0",
   "metadata": {},
   "outputs": [],
   "source": [
    "ds2 = [x**2 for x in range(10)]\n",
    "plt.plot(ds2, marker='*',linestyle='')"
   ]
  },
  {
   "cell_type": "code",
   "execution_count": null,
   "id": "c8804be2",
   "metadata": {},
   "outputs": [],
   "source": [
    "del ds1,ds2"
   ]
  },
  {
   "cell_type": "markdown",
   "id": "2ef68311",
   "metadata": {},
   "source": [
    "Now let us import our dataset."
   ]
  },
  {
   "cell_type": "code",
   "execution_count": null,
   "id": "70c486d1",
   "metadata": {},
   "outputs": [],
   "source": [
    "df = pd.read_csv('ds_salaries.csv',sep=',',index_col=0)"
   ]
  },
  {
   "cell_type": "code",
   "execution_count": null,
   "id": "13093c4b",
   "metadata": {},
   "outputs": [],
   "source": [
    "df.keys()"
   ]
  },
  {
   "cell_type": "code",
   "execution_count": null,
   "id": "17eda4dd",
   "metadata": {},
   "outputs": [],
   "source": [
    "df.head()"
   ]
  },
  {
   "cell_type": "markdown",
   "id": "24bd7be5",
   "metadata": {},
   "source": [
    "Exercises:\n",
    "\n",
    "- what would you consider an average, low and high salary for data scientist worldwide and in GB?\n",
    "\n",
    "- Can you make a graphic containing the distribution of these salaries?\n",
    "\n",
    "- Compare the salaries of DSs that work at the office, hybrid or remote."
   ]
  },
  {
   "cell_type": "code",
   "execution_count": null,
   "id": "6953c952",
   "metadata": {},
   "outputs": [],
   "source": []
  },
  {
   "cell_type": "code",
   "execution_count": null,
   "id": "7f3bc04a",
   "metadata": {},
   "outputs": [],
   "source": []
  },
  {
   "cell_type": "code",
   "execution_count": null,
   "id": "cc995f93",
   "metadata": {},
   "outputs": [],
   "source": []
  },
  {
   "cell_type": "code",
   "execution_count": null,
   "id": "25cd275c",
   "metadata": {},
   "outputs": [],
   "source": [
    "df.salary_in_usd.describe()"
   ]
  },
  {
   "cell_type": "code",
   "execution_count": null,
   "id": "0c8a4300",
   "metadata": {},
   "outputs": [],
   "source": [
    "df.keys()"
   ]
  },
  {
   "cell_type": "code",
   "execution_count": null,
   "id": "dc5ee7b6",
   "metadata": {},
   "outputs": [],
   "source": [
    "len(df)"
   ]
  },
  {
   "cell_type": "code",
   "execution_count": null,
   "id": "5ae68261",
   "metadata": {},
   "outputs": [],
   "source": [
    "df.company_location.value_counts()"
   ]
  },
  {
   "cell_type": "code",
   "execution_count": null,
   "id": "47cddb32",
   "metadata": {},
   "outputs": [],
   "source": [
    "df[df.company_location == 'US'].salary_in_usd.describe()"
   ]
  },
  {
   "cell_type": "code",
   "execution_count": null,
   "id": "f3fa5326",
   "metadata": {},
   "outputs": [],
   "source": [
    "df[df.company_location == 'GB'].salary_in_usd.describe()"
   ]
  },
  {
   "cell_type": "code",
   "execution_count": null,
   "id": "5a8d5f72",
   "metadata": {},
   "outputs": [],
   "source": [
    "df.columns"
   ]
  },
  {
   "cell_type": "code",
   "execution_count": null,
   "id": "7778cc7c",
   "metadata": {},
   "outputs": [],
   "source": [
    "df[df.company_location != df.employee_residence]"
   ]
  },
  {
   "cell_type": "code",
   "execution_count": null,
   "id": "e48c3088",
   "metadata": {},
   "outputs": [],
   "source": [
    "len(df)"
   ]
  },
  {
   "cell_type": "code",
   "execution_count": null,
   "id": "af47b3b4",
   "metadata": {},
   "outputs": [],
   "source": [
    "df.salary_in_usd.hist()"
   ]
  },
  {
   "cell_type": "code",
   "execution_count": null,
   "id": "bdcfd7e3",
   "metadata": {},
   "outputs": [],
   "source": [
    "df.boxplot(column='salary_in_usd')"
   ]
  },
  {
   "cell_type": "code",
   "execution_count": null,
   "id": "72e0fcd4",
   "metadata": {},
   "outputs": [],
   "source": [
    "df.company_location.value_counts()"
   ]
  },
  {
   "cell_type": "code",
   "execution_count": null,
   "id": "6eccf3cd",
   "metadata": {},
   "outputs": [],
   "source": [
    "len(df[df.company_location != df.employee_residence])"
   ]
  },
  {
   "cell_type": "code",
   "execution_count": null,
   "id": "8510e8d8",
   "metadata": {},
   "outputs": [],
   "source": [
    "df[df['remote_ratio'] >50 ].salary_in_usd.describe()"
   ]
  },
  {
   "cell_type": "code",
   "execution_count": null,
   "id": "b8eefdb0",
   "metadata": {},
   "outputs": [],
   "source": [
    "df[df['remote_ratio'] <=50 ].salary_in_usd.describe()"
   ]
  },
  {
   "cell_type": "markdown",
   "id": "ff087924",
   "metadata": {},
   "source": [
    "<h1>Data prep</h1>\n",
    "Now we will prepare the data to be fed into the machine learning models.\n",
    "\n",
    "Exercise: are there any columns that should be excluded?"
   ]
  },
  {
   "cell_type": "code",
   "execution_count": null,
   "id": "ed1c0aa3",
   "metadata": {},
   "outputs": [],
   "source": [
    "df.work_year.value_counts()"
   ]
  },
  {
   "cell_type": "code",
   "execution_count": null,
   "id": "1cc4cbd3",
   "metadata": {},
   "outputs": [],
   "source": [
    "df.employment_type.value_counts()"
   ]
  },
  {
   "cell_type": "code",
   "execution_count": null,
   "id": "3b7aa3d8",
   "metadata": {},
   "outputs": [],
   "source": [
    "df.columns"
   ]
  },
  {
   "cell_type": "code",
   "execution_count": null,
   "id": "377cc6ae",
   "metadata": {},
   "outputs": [],
   "source": [
    "df = df.drop(['salary','salary_currency'],axis=1)"
   ]
  },
  {
   "cell_type": "markdown",
   "id": "c6459dde",
   "metadata": {},
   "source": [
    "Exercise: is there any missing data that needs to be dealt with? (if so, do it!)"
   ]
  },
  {
   "cell_type": "code",
   "execution_count": null,
   "id": "9eea6a31",
   "metadata": {},
   "outputs": [],
   "source": []
  },
  {
   "cell_type": "code",
   "execution_count": null,
   "id": "9dc9f984",
   "metadata": {},
   "outputs": [],
   "source": []
  },
  {
   "cell_type": "code",
   "execution_count": null,
   "id": "4255ad19",
   "metadata": {},
   "outputs": [],
   "source": []
  },
  {
   "cell_type": "code",
   "execution_count": null,
   "id": "a82f369b",
   "metadata": {},
   "outputs": [],
   "source": [
    "print('no.')"
   ]
  },
  {
   "cell_type": "code",
   "execution_count": null,
   "id": "4b5301f1",
   "metadata": {},
   "outputs": [],
   "source": [
    "df.job_title.unique()"
   ]
  },
  {
   "cell_type": "markdown",
   "id": "231c05dd",
   "metadata": {},
   "source": [
    "Exercise: find what columns should be encoded and encode them."
   ]
  },
  {
   "cell_type": "code",
   "execution_count": null,
   "id": "e801d9cd",
   "metadata": {},
   "outputs": [],
   "source": []
  },
  {
   "cell_type": "code",
   "execution_count": null,
   "id": "fbf20de9",
   "metadata": {},
   "outputs": [],
   "source": []
  },
  {
   "cell_type": "code",
   "execution_count": null,
   "id": "2118a00e",
   "metadata": {},
   "outputs": [],
   "source": []
  },
  {
   "cell_type": "code",
   "execution_count": null,
   "id": "16406c05",
   "metadata": {},
   "outputs": [],
   "source": []
  },
  {
   "cell_type": "code",
   "execution_count": null,
   "id": "113b5b43",
   "metadata": {},
   "outputs": [],
   "source": [
    "# Hint, use:\n",
    "from sklearn.preprocessing import LabelEncoder"
   ]
  },
  {
   "cell_type": "code",
   "execution_count": null,
   "id": "4fe7af3e",
   "metadata": {},
   "outputs": [],
   "source": [
    "le = LabelEncoder()"
   ]
  },
  {
   "cell_type": "code",
   "execution_count": null,
   "id": "949d73cb",
   "metadata": {},
   "outputs": [],
   "source": [
    "for x in df.keys():\n",
    "    print(f'the value of x is: {x}')"
   ]
  },
  {
   "cell_type": "code",
   "execution_count": null,
   "id": "c220a3c7",
   "metadata": {},
   "outputs": [],
   "source": [
    "df.head()"
   ]
  },
  {
   "cell_type": "code",
   "execution_count": null,
   "id": "3666d136",
   "metadata": {},
   "outputs": [],
   "source": [
    "for x in df.keys():\n",
    "    if x in ['salary_in_usd', 'remote_ratio', 'work_year']:\n",
    "        print(\"SKIIIIIP\")\n",
    "    else:\n",
    "        df[f'{x}_enc'] = le.fit_transform(df[x])"
   ]
  },
  {
   "cell_type": "code",
   "execution_count": null,
   "id": "8499de5b",
   "metadata": {},
   "outputs": [],
   "source": [
    "for x in df.keys():\n",
    "    if x == 'salary_in_usd':\n",
    "        print(\"SKIIIIIP\")\n",
    "    else:\n",
    "        df[f'{x}_enc'] = le.fit_transform(df[x])"
   ]
  },
  {
   "cell_type": "code",
   "execution_count": null,
   "id": "9ea4218f",
   "metadata": {},
   "outputs": [],
   "source": [
    "df.head()"
   ]
  },
  {
   "cell_type": "markdown",
   "id": "0336918a",
   "metadata": {},
   "source": [
    "Exercise: find which columns should be scaled and do it."
   ]
  },
  {
   "cell_type": "code",
   "execution_count": null,
   "id": "e343c4e0",
   "metadata": {},
   "outputs": [],
   "source": []
  },
  {
   "cell_type": "code",
   "execution_count": null,
   "id": "f8a56a55",
   "metadata": {},
   "outputs": [],
   "source": []
  },
  {
   "cell_type": "code",
   "execution_count": null,
   "id": "51e6df14",
   "metadata": {},
   "outputs": [],
   "source": []
  },
  {
   "cell_type": "code",
   "execution_count": null,
   "id": "97e98ccf",
   "metadata": {},
   "outputs": [],
   "source": []
  },
  {
   "cell_type": "code",
   "execution_count": null,
   "id": "ed3553e4",
   "metadata": {},
   "outputs": [],
   "source": []
  },
  {
   "cell_type": "code",
   "execution_count": null,
   "id": "66255169",
   "metadata": {},
   "outputs": [],
   "source": [
    "# Hint, use:\n",
    "from sklearn.preprocessing import StandardScaler\n",
    "from sklearn.preprocessing import MinMaxScaler"
   ]
  },
  {
   "cell_type": "code",
   "execution_count": null,
   "id": "7394b6f5",
   "metadata": {},
   "outputs": [],
   "source": [
    "# Preparing to scale.\n",
    "salary = df['salary_in_usd'].to_numpy()\n",
    "\n",
    "# Reshaping.\n",
    "salary = salary.reshape(-1,1)\n",
    "\n",
    "# Creating a new column with the scaled bit\n",
    "df['salary_in_usd_sc'] = MinMaxScaler().fit_transform(salary)"
   ]
  },
  {
   "cell_type": "code",
   "execution_count": null,
   "id": "3bbca6f1",
   "metadata": {},
   "outputs": [],
   "source": [
    "df.head()"
   ]
  },
  {
   "cell_type": "code",
   "execution_count": null,
   "id": "b40f688d",
   "metadata": {},
   "outputs": [],
   "source": [
    "df[['salary_in_usd_sc','salary_in_usd']]"
   ]
  },
  {
   "cell_type": "markdown",
   "id": "6109ef8d",
   "metadata": {},
   "source": [
    "Exercise: split the dataset into a training and test set."
   ]
  },
  {
   "cell_type": "code",
   "execution_count": null,
   "id": "38dd5583",
   "metadata": {},
   "outputs": [],
   "source": []
  },
  {
   "cell_type": "code",
   "execution_count": null,
   "id": "a47b5c4d",
   "metadata": {},
   "outputs": [],
   "source": []
  },
  {
   "cell_type": "code",
   "execution_count": null,
   "id": "fb212451",
   "metadata": {},
   "outputs": [],
   "source": []
  },
  {
   "cell_type": "code",
   "execution_count": null,
   "id": "751875fa",
   "metadata": {},
   "outputs": [],
   "source": []
  },
  {
   "cell_type": "code",
   "execution_count": null,
   "id": "cb771cf4",
   "metadata": {},
   "outputs": [],
   "source": [
    "# hint.\n",
    "from sklearn.model_selection import train_test_split"
   ]
  },
  {
   "cell_type": "code",
   "execution_count": null,
   "id": "f1599940",
   "metadata": {},
   "outputs": [],
   "source": [
    "train, test = train_test_split(df, random_state=42)"
   ]
  },
  {
   "cell_type": "code",
   "execution_count": null,
   "id": "da564bff",
   "metadata": {},
   "outputs": [],
   "source": [
    "df.keys()"
   ]
  },
  {
   "cell_type": "code",
   "execution_count": null,
   "id": "9268db9a",
   "metadata": {},
   "outputs": [],
   "source": [
    "X_train = train[['experience_level_enc', 'employment_type_enc', 'job_title_enc',\n",
    "       'employee_residence_enc', 'company_location_enc',\n",
    "       'company_size_enc']]\n",
    "X_test = test[['experience_level_enc', 'employment_type_enc', 'job_title_enc',\n",
    "       'employee_residence_enc', 'company_location_enc',\n",
    "       'company_size_enc']]\n",
    "y_train = train['salary_in_usd_sc']\n",
    "y_test = test['salary_in_usd_sc']"
   ]
  },
  {
   "cell_type": "code",
   "execution_count": null,
   "id": "12a381b0",
   "metadata": {},
   "outputs": [],
   "source": [
    "type(X_train)"
   ]
  },
  {
   "cell_type": "markdown",
   "id": "a83c6893",
   "metadata": {},
   "source": [
    "<h1>Decision Tree Regressor</h1>\n",
    "Now we will use the decision tree regressor \n",
    "\n",
    "[(Documentation)](https://scikit-learn.org/stable/modules/generated/sklearn.tree.DecisionTreeRegressor.html) \n",
    "\n",
    "to try to estimate the values."
   ]
  },
  {
   "cell_type": "code",
   "execution_count": null,
   "id": "367e9c46",
   "metadata": {},
   "outputs": [],
   "source": []
  },
  {
   "cell_type": "code",
   "execution_count": null,
   "id": "e4760ec2",
   "metadata": {},
   "outputs": [],
   "source": []
  },
  {
   "cell_type": "code",
   "execution_count": null,
   "id": "9572a6da",
   "metadata": {},
   "outputs": [],
   "source": []
  },
  {
   "cell_type": "code",
   "execution_count": null,
   "id": "19860108",
   "metadata": {},
   "outputs": [],
   "source": []
  },
  {
   "cell_type": "code",
   "execution_count": null,
   "id": "3d5ae9eb",
   "metadata": {},
   "outputs": [],
   "source": [
    "from sklearn.tree import DecisionTreeRegressor"
   ]
  },
  {
   "cell_type": "code",
   "execution_count": null,
   "id": "c4698205",
   "metadata": {},
   "outputs": [],
   "source": [
    "# Notice how similar it is with the classification trees.\n",
    "DTR = DecisionTreeRegressor(max_depth=900,random_state=42)\n",
    "\n",
    "DTR.fit(X_train,y_train)\n",
    "\n",
    "y_pred = DTR.predict(X_test)"
   ]
  },
  {
   "cell_type": "code",
   "execution_count": null,
   "id": "9c1576b2",
   "metadata": {},
   "outputs": [],
   "source": [
    "fig, ax = plt.subplots(1,1,figsize=(14,6))\n",
    "\n",
    "ax.scatter(y_test,y_pred, s=10, label='Test')\n",
    "\n",
    "ax.set_title(f'Data scientist salary prediction')\n",
    "\n",
    "ax.legend()\n",
    "\n",
    "# Adding an x=y line.\n",
    "lims = [\n",
    "    np.min([ax.get_xlim(), ax.get_ylim()]),  # min of both axes\n",
    "    np.max([ax.get_xlim(), ax.get_ylim()]),  # max of both axes\n",
    "]\n",
    "\n",
    "# now plot both limits against eachother\n",
    "ax.plot(lims, lims, 'k-', alpha=0.75, zorder=0)\n",
    "ax.set_aspect('equal')\n",
    "ax.set_xlim(lims)\n",
    "ax.set_ylim(lims)"
   ]
  },
  {
   "cell_type": "markdown",
   "id": "98ef53f5",
   "metadata": {},
   "source": [
    "Exercise: calculate MAE and MSE."
   ]
  },
  {
   "cell_type": "code",
   "execution_count": null,
   "id": "fcecb006",
   "metadata": {},
   "outputs": [],
   "source": []
  },
  {
   "cell_type": "code",
   "execution_count": null,
   "id": "20641bcc",
   "metadata": {},
   "outputs": [],
   "source": []
  },
  {
   "cell_type": "code",
   "execution_count": null,
   "id": "839e04c2",
   "metadata": {},
   "outputs": [],
   "source": []
  },
  {
   "cell_type": "code",
   "execution_count": null,
   "id": "fe323a7f",
   "metadata": {},
   "outputs": [],
   "source": []
  },
  {
   "cell_type": "code",
   "execution_count": null,
   "id": "5273e3b4",
   "metadata": {},
   "outputs": [],
   "source": []
  },
  {
   "cell_type": "code",
   "execution_count": null,
   "id": "0f13f64c",
   "metadata": {},
   "outputs": [],
   "source": [
    "# Hint.\n",
    "from sklearn.metrics import mean_absolute_error\n",
    "from sklearn.metrics import mean_squared_error"
   ]
  },
  {
   "cell_type": "code",
   "execution_count": null,
   "id": "d0f1e868",
   "metadata": {},
   "outputs": [],
   "source": [
    "ys_mae = mean_absolute_error(y_test,y_pred)\n",
    "ys_mse = mean_squared_error(y_test,y_pred)"
   ]
  },
  {
   "cell_type": "code",
   "execution_count": null,
   "id": "6d9e8abd",
   "metadata": {},
   "outputs": [],
   "source": [
    "ys_mae"
   ]
  },
  {
   "cell_type": "code",
   "execution_count": null,
   "id": "5206c25a",
   "metadata": {},
   "outputs": [],
   "source": [
    "ys_mae = mean_absolute_error(y_test,y_pred)\n",
    "ys_mse = mean_squared_error(y_test,y_pred)\n",
    "\n",
    "fig, ax = plt.subplots(1,1,figsize=(14,6))\n",
    "\n",
    "ax.scatter(y_test,y_pred, s=10, label='Test')\n",
    "\n",
    "ax.set_title(f'Data scientist salary prediction \\n MAE:{ys_mae:.3f}, MSE:{ys_mse:.3f}')\n",
    "\n",
    "ax.legend()\n",
    "\n",
    "# Adding an x=y line.\n",
    "lims = [\n",
    "    np.min([ax.get_xlim(), ax.get_ylim()]),  # min of both axes\n",
    "    np.max([ax.get_xlim(), ax.get_ylim()]),  # max of both axes\n",
    "]\n",
    "\n",
    "# now plot both limits against eachother\n",
    "ax.plot(lims, lims, 'k-', alpha=0.75, zorder=0)\n",
    "ax.set_aspect('equal')\n",
    "ax.set_xlim(lims)\n",
    "ax.set_ylim(lims)"
   ]
  },
  {
   "cell_type": "markdown",
   "id": "d69db7a0",
   "metadata": {},
   "source": [
    "It is often useful to have an x=y line in to compare the results."
   ]
  },
  {
   "cell_type": "code",
   "execution_count": null,
   "id": "703b24f4",
   "metadata": {},
   "outputs": [],
   "source": [
    "ys_mae = mean_absolute_error(y_test,y_pred)\n",
    "ys_mse = mean_squared_error(y_test,y_pred)\n",
    "\n",
    "fig, ax = plt.subplots(1,1,figsize=(14,6))\n",
    "\n",
    "ax.scatter(y_test,y_pred, s=10, label='Test')\n",
    "\n",
    "ax.set_title(f'Data scientist salary prediction \\n MAE:{ys_mae:.2f}, MSE:{ys_mse:.2f}')\n",
    "\n",
    "ax.legend()\n",
    "\n",
    "# Adding an x=y line.\n",
    "lims = [\n",
    "    np.min([ax.get_xlim(), ax.get_ylim()]),  # min of both axes\n",
    "    np.max([ax.get_xlim(), ax.get_ylim()]),  # max of both axes\n",
    "]\n",
    "\n",
    "# now plot both limits against eachother\n",
    "ax.plot(lims, lims, 'k-', alpha=0.75, zorder=0)\n",
    "ax.set_aspect('equal')\n",
    "ax.set_xlim(lims)\n",
    "ax.set_ylim(lims)"
   ]
  },
  {
   "cell_type": "markdown",
   "id": "b9314fdd",
   "metadata": {},
   "source": [
    "<h1>Random Forest Regressor</h1>\n",
    "\n",
    "Check the [Documentation](https://scikit-learn.org/stable/modules/generated/sklearn.ensemble.RandomForestRegressor.html)"
   ]
  },
  {
   "cell_type": "code",
   "execution_count": null,
   "id": "b966c601",
   "metadata": {},
   "outputs": [],
   "source": [
    "from sklearn.ensemble import RandomForestRegressor"
   ]
  },
  {
   "cell_type": "markdown",
   "id": "918a56a0",
   "metadata": {},
   "source": [
    "Exercise: make a regression using the random forest regressor and plot your results."
   ]
  },
  {
   "cell_type": "code",
   "execution_count": null,
   "id": "ab49af21",
   "metadata": {},
   "outputs": [],
   "source": []
  },
  {
   "cell_type": "code",
   "execution_count": null,
   "id": "9aa2a0d7",
   "metadata": {},
   "outputs": [],
   "source": []
  },
  {
   "cell_type": "code",
   "execution_count": null,
   "id": "856dffe8",
   "metadata": {},
   "outputs": [],
   "source": []
  },
  {
   "cell_type": "code",
   "execution_count": null,
   "id": "ffa3450e",
   "metadata": {},
   "outputs": [],
   "source": []
  },
  {
   "cell_type": "code",
   "execution_count": null,
   "id": "cedf62ba",
   "metadata": {},
   "outputs": [],
   "source": [
    "RFR = RandomForestRegressor(n_estimators=1,max_depth=1, random_state=42)\n",
    "\n",
    "RFR.fit(X_train,y_train)\n",
    "\n",
    "y_pred = RFR.predict(X_test)"
   ]
  },
  {
   "cell_type": "code",
   "execution_count": null,
   "id": "dd488a12",
   "metadata": {},
   "outputs": [],
   "source": [
    "ys_mae = mean_absolute_error(y_test,y_pred)\n",
    "ys_mse = mean_squared_error(y_test,y_pred)\n",
    "\n",
    "fig, ax = plt.subplots(1,1,figsize=(14,6))\n",
    "\n",
    "ax.scatter(y_test,y_pred, s=10, label='Test')\n",
    "\n",
    "ax.set_title(f'Data scientist salary prediction \\n MAE:{ys_mae:.2f}, MSE:{ys_mse:.2f}')\n",
    "\n",
    "ax.legend()\n",
    "\n",
    "# Adding an x=y line.\n",
    "lims = [\n",
    "    np.min([ax.get_xlim(), ax.get_ylim()]),  # min of both axes\n",
    "    np.max([ax.get_xlim(), ax.get_ylim()]),  # max of both axes\n",
    "]\n",
    "\n",
    "# now plot both limits against eachother\n",
    "ax.plot(lims, lims, 'k-', alpha=0.75, zorder=0)\n",
    "ax.set_aspect('equal')\n",
    "ax.set_xlim(lims)\n",
    "ax.set_ylim(lims)"
   ]
  },
  {
   "cell_type": "code",
   "execution_count": null,
   "id": "09a8f8ee",
   "metadata": {},
   "outputs": [],
   "source": [
    "len(X_train)"
   ]
  },
  {
   "cell_type": "code",
   "execution_count": null,
   "id": "df416fd5",
   "metadata": {},
   "outputs": [],
   "source": [
    "len(X_test)"
   ]
  },
  {
   "cell_type": "markdown",
   "id": "b9d96e96",
   "metadata": {},
   "source": [
    "Exercise: try increasing the depth and observe how it changes"
   ]
  },
  {
   "cell_type": "code",
   "execution_count": null,
   "id": "46b45896",
   "metadata": {},
   "outputs": [],
   "source": []
  },
  {
   "cell_type": "markdown",
   "id": "566ebfba",
   "metadata": {},
   "source": [
    "<h1>Support Vector Machines</h1>\n",
    "\n",
    "Link to the [Documentation](https://scikit-learn.org/stable/modules/generated/sklearn.svm.SVR.html)"
   ]
  },
  {
   "cell_type": "code",
   "execution_count": null,
   "id": "2359dcb7",
   "metadata": {},
   "outputs": [],
   "source": [
    "from sklearn.svm import SVR"
   ]
  },
  {
   "cell_type": "markdown",
   "id": "cff33f19",
   "metadata": {},
   "source": [
    "Exercise: you know the drill."
   ]
  },
  {
   "cell_type": "code",
   "execution_count": null,
   "id": "4f9fb3c8",
   "metadata": {},
   "outputs": [],
   "source": []
  },
  {
   "cell_type": "code",
   "execution_count": null,
   "id": "c5134f73",
   "metadata": {},
   "outputs": [],
   "source": []
  },
  {
   "cell_type": "code",
   "execution_count": null,
   "id": "0a5571fd",
   "metadata": {},
   "outputs": [],
   "source": []
  },
  {
   "cell_type": "code",
   "execution_count": null,
   "id": "fbb3c290",
   "metadata": {},
   "outputs": [],
   "source": []
  },
  {
   "cell_type": "code",
   "execution_count": null,
   "id": "b5dac632",
   "metadata": {},
   "outputs": [],
   "source": []
  },
  {
   "cell_type": "code",
   "execution_count": null,
   "id": "6ecf567b",
   "metadata": {},
   "outputs": [],
   "source": [
    "rgr = SVR()\n",
    "\n",
    "rgr.fit(X_train,y_train)\n",
    "\n",
    "y_pred = rgr.predict(X_test)"
   ]
  },
  {
   "cell_type": "code",
   "execution_count": null,
   "id": "d507fa33",
   "metadata": {},
   "outputs": [],
   "source": [
    "ys_mae = mean_absolute_error(y_test,y_pred)\n",
    "ys_mse = mean_squared_error(y_test,y_pred)\n",
    "\n",
    "fig, ax = plt.subplots(1,1,figsize=(14,6))\n",
    "\n",
    "ax.scatter(y_test,y_pred, s=10, label='Test')\n",
    "\n",
    "ax.set_title(f'Data scientist salary prediction \\n MAE:{ys_mae:.2f}, MSE:{ys_mse:.2f}')\n",
    "\n",
    "ax.legend()\n",
    "\n",
    "# Adding an x=y line.\n",
    "lims = [\n",
    "    np.min([ax.get_xlim(), ax.get_ylim()]),  # min of both axes\n",
    "    np.max([ax.get_xlim(), ax.get_ylim()]),  # max of both axes\n",
    "]\n",
    "\n",
    "# now plot both limits against eachother\n",
    "ax.plot(lims, lims, 'k-', alpha=0.75, zorder=0)\n",
    "ax.set_aspect('equal')\n",
    "ax.set_xlim(lims)\n",
    "ax.set_ylim(lims)"
   ]
  },
  {
   "cell_type": "markdown",
   "id": "f41b4945",
   "metadata": {},
   "source": [
    "<h1>Pipelining</h1>"
   ]
  },
  {
   "cell_type": "code",
   "execution_count": null,
   "id": "c32ba06e",
   "metadata": {},
   "outputs": [],
   "source": [
    "from sklearn.pipeline import make_pipeline"
   ]
  },
  {
   "cell_type": "code",
   "execution_count": null,
   "id": "f8d7cefd",
   "metadata": {},
   "outputs": [],
   "source": [
    " # We don't need to put the scaler there because we already took care of it.\n",
    "regr = make_pipeline(SVR(C=1.0, epsilon=0.2))"
   ]
  },
  {
   "cell_type": "code",
   "execution_count": null,
   "id": "70c1f98c",
   "metadata": {},
   "outputs": [],
   "source": [
    "regr.fit(X_train,y_train)"
   ]
  },
  {
   "cell_type": "code",
   "execution_count": null,
   "id": "065e99a9",
   "metadata": {},
   "outputs": [],
   "source": [
    "# Checking which parameters can be tunned.\n",
    "regr.get_params()"
   ]
  },
  {
   "cell_type": "code",
   "execution_count": null,
   "id": "28974e55",
   "metadata": {},
   "outputs": [],
   "source": [
    "parameteres = {'svr__C':[0.001,0.1,10,100,10e5], 'svr__gamma':[0.1,0.01]}"
   ]
  },
  {
   "cell_type": "code",
   "execution_count": null,
   "id": "ce306a1a",
   "metadata": {},
   "outputs": [],
   "source": [
    "from sklearn.model_selection import GridSearchCV"
   ]
  },
  {
   "cell_type": "code",
   "execution_count": null,
   "id": "374cc158",
   "metadata": {},
   "outputs": [],
   "source": [
    "# defining the gridsearch.\n",
    "grid = GridSearchCV(regr, \n",
    "                    param_grid=parameteres, \n",
    "                    cv=5)"
   ]
  },
  {
   "cell_type": "code",
   "execution_count": null,
   "id": "7012e0d3",
   "metadata": {},
   "outputs": [],
   "source": [
    "grid.fit(X_train, y_train)\n",
    "print(\"score = %3.2f\" %(grid.score(X_test,y_test)))\n",
    "print(grid.best_params_)"
   ]
  },
  {
   "cell_type": "markdown",
   "id": "b1ce15d2",
   "metadata": {},
   "source": [
    "Final Exercise: improve the model accuracy. Feel free to use any methods and tools you see fit."
   ]
  },
  {
   "cell_type": "code",
   "execution_count": null,
   "id": "48ee7575",
   "metadata": {},
   "outputs": [],
   "source": []
  }
 ],
 "metadata": {
  "kernelspec": {
   "display_name": "Python 3 (ipykernel)",
   "language": "python",
   "name": "python3"
  },
  "language_info": {
   "codemirror_mode": {
    "name": "ipython",
    "version": 3
   },
   "file_extension": ".py",
   "mimetype": "text/x-python",
   "name": "python",
   "nbconvert_exporter": "python",
   "pygments_lexer": "ipython3",
   "version": "3.9.13"
  }
 },
 "nbformat": 4,
 "nbformat_minor": 5
}
