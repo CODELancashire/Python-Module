{
 "cells": [
  {
   "cell_type": "markdown",
   "metadata": {},
   "source": [
    "<h1>Pandas and matplotlib</h1>\n",
    "Pandas is arguably the most used library in data science and most visualisations in python are made using matplotlib. They are also incredibly important to Machine Learning as they allow one to explore the data (and formulate the questions based on it) and also CLEAN/PREPARE the data. It is not an exageration saying that 80-90% of the work done by a Data Scientist is cleaning data.\n",
    "\n",
    "[pandas](https://pandas.pydata.org/) is a powerful library that allows one to work with data. "
   ]
  },
  {
   "cell_type": "code",
   "execution_count": null,
   "metadata": {},
   "outputs": [],
   "source": [
    "import pandas as pd\n",
    "import matplotlib.pyplot as plt\n",
    "import numpy as np"
   ]
  },
  {
   "cell_type": "markdown",
   "metadata": {},
   "source": [
    "To open our dataset let us use [pd.read csv](https://pandas.pydata.org/docs/reference/api/pandas.read_csv.html)"
   ]
  },
  {
   "cell_type": "code",
   "execution_count": null,
   "metadata": {},
   "outputs": [],
   "source": [
    "pokemon_df = pd.read_csv('Pokemon.csv', sep=',')"
   ]
  },
  {
   "cell_type": "markdown",
   "metadata": {},
   "source": [
    "Question: df stands for dataframe but what is a dataframe?"
   ]
  },
  {
   "cell_type": "markdown",
   "metadata": {},
   "source": [
    "Question: how do we print the dataframe? When is that convenient? "
   ]
  },
  {
   "cell_type": "code",
   "execution_count": null,
   "metadata": {},
   "outputs": [],
   "source": [
    "print(pokemon_df)"
   ]
  },
  {
   "cell_type": "markdown",
   "metadata": {},
   "source": [
    "Being able to see the entirety of the data on the screen is a double edged sword. In one hand the human working on a given dataset can be there visually inspecting the dataset all the time. On the other hand this process of merely displaying the data can quickly become a burden to the processing time. It is then more practical to use a different approach when dealing with large datasets.<br> \n",
    "\n",
    "In this sense there are a few tools we can use to inspect the data for example [head](https://pandas.pydata.org/docs/reference/api/pandas.DataFrame.head.html) and [tail](https://pandas.pydata.org/docs/reference/api/pandas.DataFrame.tail.html). "
   ]
  },
  {
   "cell_type": "code",
   "execution_count": null,
   "metadata": {},
   "outputs": [],
   "source": [
    "# Displaying the first 5 rows of the dataframe.\n",
    "pokemon_df.head()"
   ]
  },
  {
   "cell_type": "code",
   "execution_count": null,
   "metadata": {},
   "outputs": [],
   "source": [
    "# Displaying the bottom 5 rows of the dataframe.\n",
    "pokemon_df.tail()"
   ]
  },
  {
   "cell_type": "markdown",
   "metadata": {},
   "source": [
    "Another very powerful tool is [describe](https://pandas.pydata.org/docs/reference/api/pandas.DataFrame.describe.html)"
   ]
  },
  {
   "cell_type": "code",
   "execution_count": null,
   "metadata": {
    "scrolled": true
   },
   "outputs": [],
   "source": [
    "pokemon_df.describe()"
   ]
  },
  {
   "cell_type": "markdown",
   "metadata": {},
   "source": [
    "Question: what are we seeing above? How is that useful? How is that NOT useful?"
   ]
  },
  {
   "cell_type": "markdown",
   "metadata": {},
   "source": [
    "It is also possible to query specific aspects of each individual column. To select only a column it is similar to getting a specific item of a dictionary,"
   ]
  },
  {
   "cell_type": "code",
   "execution_count": null,
   "metadata": {},
   "outputs": [],
   "source": [
    "# Getting only the items that are in the HP column.\n",
    "pokemon_df['HP']"
   ]
  },
  {
   "cell_type": "code",
   "execution_count": null,
   "metadata": {},
   "outputs": [],
   "source": [
    "pokemon_df.HP"
   ]
  },
  {
   "cell_type": "code",
   "execution_count": null,
   "metadata": {},
   "outputs": [],
   "source": [
    "# A list of columns can also be selected.\n",
    "pokemon_df[['HP','Attack','Speed']]"
   ]
  },
  {
   "cell_type": "markdown",
   "metadata": {},
   "source": [
    "To get to know all keys of the dataframe (or for getting something you can quick copy and paste) you can use"
   ]
  },
  {
   "cell_type": "code",
   "execution_count": null,
   "metadata": {},
   "outputs": [],
   "source": [
    "# This also works on dictionaries!\n",
    "pokemon_df.keys()"
   ]
  },
  {
   "cell_type": "code",
   "execution_count": null,
   "metadata": {},
   "outputs": [],
   "source": [
    "pokemon_df.columns"
   ]
  },
  {
   "cell_type": "markdown",
   "metadata": {},
   "source": [
    "For non-numerical columns other tools are more appropriated to understand the value distribution, such as"
   ]
  },
  {
   "cell_type": "code",
   "execution_count": null,
   "metadata": {},
   "outputs": [],
   "source": [
    "# This shows all the unique entries in the dataset for that column.\n",
    "pokemon_df['Type 1'].unique()"
   ]
  },
  {
   "cell_type": "code",
   "execution_count": null,
   "metadata": {},
   "outputs": [],
   "source": [
    "# This will count how much incidence of a given unique entry is seen on the dataframe.\n",
    "pokemon_df['Type 1'].value_counts()"
   ]
  },
  {
   "cell_type": "markdown",
   "metadata": {},
   "source": [
    "Exercises: how many pokemons does each different generation have? Also, how many legendary pokemons are there in total?"
   ]
  },
  {
   "cell_type": "code",
   "execution_count": null,
   "metadata": {},
   "outputs": [],
   "source": []
  },
  {
   "cell_type": "markdown",
   "metadata": {},
   "source": [
    "This is how we save our dataframe."
   ]
  },
  {
   "cell_type": "code",
   "execution_count": null,
   "metadata": {},
   "outputs": [],
   "source": [
    "#Exporting data.\n",
    "pokemon_df.to_csv('filename.csv', sep=',')"
   ]
  },
  {
   "cell_type": "markdown",
   "metadata": {},
   "source": [
    "Describing the dataset."
   ]
  },
  {
   "cell_type": "code",
   "execution_count": null,
   "metadata": {},
   "outputs": [],
   "source": [
    "# Getting the description.\n",
    "pokemon_df.describe()"
   ]
  },
  {
   "cell_type": "markdown",
   "metadata": {},
   "source": [
    "Question: what is all this information above?"
   ]
  },
  {
   "cell_type": "code",
   "execution_count": null,
   "metadata": {},
   "outputs": [],
   "source": [
    "# Combining methods.\n",
    "pokemon_df.describe().to_csv('description.csv')"
   ]
  },
  {
   "cell_type": "markdown",
   "metadata": {},
   "source": [
    "Now to operate over a single column the operands we've seen so far work,"
   ]
  },
  {
   "cell_type": "code",
   "execution_count": null,
   "metadata": {},
   "outputs": [],
   "source": [
    "pokemon_df['HP'] + 5"
   ]
  },
  {
   "cell_type": "markdown",
   "metadata": {},
   "source": [
    "Question: Did the operation above changed the actual values in the dataframe?"
   ]
  },
  {
   "cell_type": "code",
   "execution_count": null,
   "metadata": {},
   "outputs": [],
   "source": []
  },
  {
   "cell_type": "markdown",
   "metadata": {},
   "source": [
    "Creating a new column in a dataframe is quite simple,"
   ]
  },
  {
   "cell_type": "code",
   "execution_count": null,
   "metadata": {},
   "outputs": [],
   "source": [
    "pokemon_df['Irrelevant'] = np.nan\n",
    "pokemon_df['HP+100'] = pokemon_df['HP'] + 100"
   ]
  },
  {
   "cell_type": "code",
   "execution_count": null,
   "metadata": {},
   "outputs": [],
   "source": [
    "pokemon_df['Atk+Def+HP'] = pokemon_df['Attack'] + pokemon_df['Defense'] + pokemon_df['HP']"
   ]
  },
  {
   "cell_type": "code",
   "execution_count": null,
   "metadata": {},
   "outputs": [],
   "source": [
    "pokemon_df.head()"
   ]
  },
  {
   "cell_type": "markdown",
   "metadata": {},
   "source": [
    "As it is dropping those columns with [drop](https://pandas.pydata.org/docs/reference/api/pandas.DataFrame.drop.html)"
   ]
  },
  {
   "cell_type": "code",
   "execution_count": null,
   "metadata": {},
   "outputs": [],
   "source": [
    "# Getting the column names for a copy paste\n",
    "pokemon_df.keys()"
   ]
  },
  {
   "cell_type": "code",
   "execution_count": null,
   "metadata": {},
   "outputs": [],
   "source": [
    "# Listing the columns to drop. \n",
    "# axis = 1 means we're dropping it column-wise.\n",
    "pokemon_df.drop(['Irrelevant','HP+100'], axis=1)"
   ]
  },
  {
   "cell_type": "code",
   "execution_count": null,
   "metadata": {},
   "outputs": [],
   "source": [
    "pokemon_df.head()"
   ]
  },
  {
   "cell_type": "code",
   "execution_count": null,
   "metadata": {},
   "outputs": [],
   "source": [
    "# Modifying a specific datapoint.\n",
    "pokemon_df.at[0,'Irrelevant'] = 10"
   ]
  },
  {
   "cell_type": "markdown",
   "metadata": {},
   "source": [
    "Question: why are the columns still there then? how do we actually get rid of them?"
   ]
  },
  {
   "cell_type": "code",
   "execution_count": null,
   "metadata": {},
   "outputs": [],
   "source": []
  },
  {
   "cell_type": "markdown",
   "metadata": {},
   "source": [
    "Exercise: create a new column where the Attack of each pokemon is divided by the maximum value on the attack column, and a new column containing the division of the attack and defense stats."
   ]
  },
  {
   "cell_type": "code",
   "execution_count": null,
   "metadata": {},
   "outputs": [],
   "source": []
  },
  {
   "cell_type": "markdown",
   "metadata": {},
   "source": [
    "Filtering is also a process where a data scientist can spend countless hours in. Using pandas the process is also quite simple."
   ]
  },
  {
   "cell_type": "code",
   "execution_count": null,
   "metadata": {},
   "outputs": [],
   "source": [
    "# Showcase the pokemons with HP larger than 80.\n",
    "pokemon_df[pokemon_df['HP'] > 80]"
   ]
  },
  {
   "cell_type": "code",
   "execution_count": null,
   "metadata": {
    "scrolled": true
   },
   "outputs": [],
   "source": [
    "# Notice that the condition doesn't need to be numerical.\n",
    "pokemon_df[pokemon_df['Type 1'] == 'Fire']"
   ]
  },
  {
   "cell_type": "code",
   "execution_count": null,
   "metadata": {
    "scrolled": false
   },
   "outputs": [],
   "source": [
    "# Notice that the condition doesn't need to be numerical.\n",
    "pokemon_df[(pokemon_df['Type 1'] == 'Ice')&(pokemon_df['Type 2'] == 'Psychic')]"
   ]
  },
  {
   "cell_type": "markdown",
   "metadata": {},
   "source": [
    "Exercise: how do we measure how many entries satisfy the stated condition above? I.e., what is the length of the dataframe. [hint](https://www.w3schools.com/python/gloss_python_string_length.asp)"
   ]
  },
  {
   "cell_type": "code",
   "execution_count": null,
   "metadata": {},
   "outputs": [],
   "source": []
  },
  {
   "cell_type": "markdown",
   "metadata": {},
   "source": [
    "Examples on how to sort the dataframe."
   ]
  },
  {
   "cell_type": "code",
   "execution_count": null,
   "metadata": {},
   "outputs": [],
   "source": [
    "# Use this to show the largest imbalances on attack/defense.\n",
    "pokemon_df.sort_values(by=['Attack/Defense'])[0:10]"
   ]
  },
  {
   "cell_type": "code",
   "execution_count": null,
   "metadata": {},
   "outputs": [],
   "source": [
    "pokemon_df.sort_values(by=['Attack/Defense'], ascending=False)[0:10]"
   ]
  },
  {
   "cell_type": "markdown",
   "metadata": {},
   "source": [
    "Exercise: how many pokemons don't have a second type? [hint](https://pandas.pydata.org/docs/reference/api/pandas.DataFrame.isna.html)\n",
    "\n",
    "What fraction of the dataset do they represent?"
   ]
  },
  {
   "cell_type": "code",
   "execution_count": null,
   "metadata": {},
   "outputs": [],
   "source": []
  },
  {
   "cell_type": "code",
   "execution_count": null,
   "metadata": {},
   "outputs": [],
   "source": []
  },
  {
   "cell_type": "markdown",
   "metadata": {},
   "source": [
    "Now numbers can be quite confusing and their significance is limited when context or comparissons are not offered. In this sense pandas dataframes also contain many built-in functions that can help you. For example:"
   ]
  },
  {
   "cell_type": "code",
   "execution_count": null,
   "metadata": {},
   "outputs": [],
   "source": [
    "pokemon_df['Attack'].describe()"
   ]
  },
  {
   "cell_type": "code",
   "execution_count": null,
   "metadata": {},
   "outputs": [],
   "source": [
    "pokemon_df.hist()"
   ]
  },
  {
   "cell_type": "markdown",
   "metadata": {},
   "source": [
    "Exploring the built in histogram method."
   ]
  },
  {
   "cell_type": "code",
   "execution_count": null,
   "metadata": {},
   "outputs": [],
   "source": [
    "# This plots the histogram of the attack column\n",
    "pokemon_df.hist('Attack')"
   ]
  },
  {
   "cell_type": "markdown",
   "metadata": {},
   "source": [
    "Exploring a line plot."
   ]
  },
  {
   "cell_type": "code",
   "execution_count": null,
   "metadata": {},
   "outputs": [],
   "source": [
    "pokemon_df['Attack'].plot()"
   ]
  },
  {
   "cell_type": "code",
   "execution_count": null,
   "metadata": {},
   "outputs": [],
   "source": [
    "# Plotting the first 20 points only.\n",
    "pokemon_df['Attack'][0:20].plot()"
   ]
  },
  {
   "cell_type": "markdown",
   "metadata": {},
   "source": [
    "Question, is this plot appropriate for this data?\n",
    "\n",
    "Now look at the following scatter plot."
   ]
  },
  {
   "cell_type": "code",
   "execution_count": null,
   "metadata": {},
   "outputs": [],
   "source": [
    "pokemon_df.plot.scatter(x='#',y='Attack')"
   ]
  },
  {
   "cell_type": "markdown",
   "metadata": {},
   "source": [
    "What's the difference between a plot and a scatter plot?"
   ]
  },
  {
   "cell_type": "code",
   "execution_count": null,
   "metadata": {},
   "outputs": [],
   "source": [
    "pokemon_df.plot.scatter(x='Attack',y='Defense')"
   ]
  },
  {
   "cell_type": "markdown",
   "metadata": {},
   "source": [
    "What relevant information can we extract from this sort of plot? what is the use of scattering a column agains't the other?\n",
    "\n",
    "Further modifying figures with matplotlib."
   ]
  },
  {
   "cell_type": "code",
   "execution_count": null,
   "metadata": {},
   "outputs": [],
   "source": [
    "# Create figure object and defining axes.\n",
    "fig, axes = plt.subplots(nrows=2, ncols=2, figsize=(10, 6))\n",
    "\n",
    "fig.suptitle('This is the title!')\n",
    "\n",
    "# Above all, notice the ax = ax[0,0].\n",
    "pokemon_df.plot.scatter(x='Attack',y='Defense',s=1, c='black', ax=axes[0,0])\n",
    "pokemon_df.plot.scatter(x='Attack',y='Defense', ax=axes[1,0])\n",
    "pokemon_df.plot.scatter(x='Attack',y='Defense',s=1, c='black', ax=axes[0,1])\n",
    "pokemon_df.plot.scatter(x='Attack',y='Defense', s=1, ax=axes[1,1])\n"
   ]
  },
  {
   "cell_type": "markdown",
   "metadata": {},
   "source": [
    "Exercise: for every pokemon type make a scatter plot of attack vs defense (and do colour them differently)."
   ]
  },
  {
   "cell_type": "code",
   "execution_count": null,
   "metadata": {},
   "outputs": [],
   "source": []
  },
  {
   "cell_type": "code",
   "execution_count": null,
   "metadata": {},
   "outputs": [],
   "source": []
  },
  {
   "cell_type": "code",
   "execution_count": null,
   "metadata": {
    "scrolled": false
   },
   "outputs": [],
   "source": [
    "# My solution.\n",
    "fig, axes = plt.subplots(nrows=1, ncols=1, figsize=(10, 6))\n",
    "\n",
    "for key in pokemon_df['Type 1'].unique():\n",
    "    print(key)\n",
    "\n",
    "    axes.scatter(x=pokemon_df[pokemon_df['Type 1'] == key]['Attack'],\n",
    "                 y=pokemon_df[pokemon_df['Type 1'] == key]['Defense'],\n",
    "                s=5,\n",
    "                label=key)\n",
    "    \n",
    "    plt.legend()"
   ]
  },
  {
   "cell_type": "code",
   "execution_count": null,
   "metadata": {},
   "outputs": [],
   "source": [
    "fig, axes = plt.subplots(nrows=1, ncols=1, figsize=(10, 6))\n",
    "\n",
    "axes.scatter(x=pokemon_df[pokemon_df['Type 1'] == 'Fire']['Attack'],\n",
    "             y=pokemon_df[pokemon_df['Type 1'] == 'Fire']['Defense'],\n",
    "             s=5, \n",
    "             color='red')\n",
    "\n",
    "axes.scatter(x=pokemon_df[pokemon_df['Type 1'] == 'Grass']['Attack'],\n",
    "             y=pokemon_df[pokemon_df['Type 1'] == 'Grass']['Defense'],\n",
    "             s=5, \n",
    "             color='green')\n",
    "\n",
    "\n",
    "#pokemon_df.plot.scatter(x='Attack',y='Defense',s=1, c='black', ax=axes[0])\n",
    "#pokemon_df.plot.scatter(x='Attack',y='Defense',s=1, ax=axes[0])"
   ]
  },
  {
   "cell_type": "markdown",
   "metadata": {},
   "source": [
    "A complete guide on the methods that can be acessed in a dataframe object can be found [here](https://pandas.pydata.org/pandas-docs/stable/user_guide/visualization.html).\n",
    "\n",
    "Exercise: now do the histogram of the HP, defense and speed columns."
   ]
  },
  {
   "cell_type": "code",
   "execution_count": null,
   "metadata": {},
   "outputs": [],
   "source": []
  },
  {
   "cell_type": "code",
   "execution_count": null,
   "metadata": {},
   "outputs": [],
   "source": []
  },
  {
   "cell_type": "code",
   "execution_count": null,
   "metadata": {},
   "outputs": [],
   "source": [
    "pokemon_df['HP'].plot.hist()"
   ]
  },
  {
   "cell_type": "code",
   "execution_count": null,
   "metadata": {},
   "outputs": [],
   "source": [
    "fig,axes = plt.subplots(nrows=1,ncols=3,figsize=(12,6))\n",
    "pokemon_df['HP'].plot.hist(ax=axes[0], bins=50, alpha=0.5, color='red')\n",
    "axes[0].set_title('HP')\n",
    "\n",
    "pokemon_df['Defense'].plot.hist(ax=axes[1], bins=50, alpha=.5, color='red')\n",
    "axes[1].set_title('Defense')\n",
    "pokemon_df['Attack'].plot.hist(ax=axes[1], bins=50, alpha=.5, color='blue')\n",
    "axes[1].set_title('Attack')\n",
    "\n",
    "pokemon_df['Speed'].plot.hist(ax=axes[2], bins=50, alpha=0.5, color='green')\n",
    "axes[2].set_title('Speed')\n",
    "\n",
    "axes[1].set_ylabel('')\n",
    "axes[2].set_ylabel('')"
   ]
  },
  {
   "cell_type": "code",
   "execution_count": null,
   "metadata": {},
   "outputs": [],
   "source": [
    "fig,axes = plt.subplots(nrows=1,ncols=3,figsize=(12,6))\n",
    "pokemon_df['HP'].plot.hist(ax=axes[0], bins=50, alpha=0.5, color='red')\n",
    "axes[0].set_title('HP')\n",
    "\n",
    "pokemon_df['Defense'].plot.hist(ax=axes[1], bins=50, alpha=0.5, color='grey')\n",
    "axes[1].set_title('Defense')\n",
    "\n",
    "pokemon_df['Speed'].plot.hist(ax=axes[2], bins=50, alpha=0.5, color='green')\n",
    "axes[2].set_title('Speed')"
   ]
  },
  {
   "cell_type": "markdown",
   "metadata": {},
   "source": [
    "Numpy can also be used in conjunction with pandas to study the dataframes. For example"
   ]
  },
  {
   "cell_type": "code",
   "execution_count": null,
   "metadata": {},
   "outputs": [],
   "source": [
    "# Returns the maximum value of the pokemons HP.\n",
    "np.max(pokemon_df['HP'])"
   ]
  },
  {
   "cell_type": "code",
   "execution_count": null,
   "metadata": {},
   "outputs": [],
   "source": [
    "# Returns the mean value of the pokemons attack.\n",
    "np.mean(pokemon_df['Attack'])"
   ]
  },
  {
   "cell_type": "markdown",
   "metadata": {},
   "source": [
    "Exercise: Find out how many pokemons have their Attack stat above the average value for the entire set."
   ]
  },
  {
   "cell_type": "code",
   "execution_count": null,
   "metadata": {},
   "outputs": [],
   "source": []
  },
  {
   "cell_type": "markdown",
   "metadata": {},
   "source": [
    "Another thing that is very common to find is missing entries and there are different stragies that can be employed (for [example](https://pandas.pydata.org/docs/user_guide/missing_data.html)). Using [dropna](https://pandas.pydata.org/docs/reference/api/pandas.DataFrame.dropna.html) we can drop all the rows that have a missing value,"
   ]
  },
  {
   "cell_type": "code",
   "execution_count": null,
   "metadata": {},
   "outputs": [],
   "source": [
    "pokemon_df.dropna()"
   ]
  },
  {
   "cell_type": "markdown",
   "metadata": {},
   "source": [
    "Why all the dataframe was wipped out?"
   ]
  },
  {
   "cell_type": "markdown",
   "metadata": {},
   "source": [
    "Columns can be individually dropped using [drop](https://pandas.pydata.org/docs/reference/api/pandas.DataFrame.drop.html)"
   ]
  },
  {
   "cell_type": "code",
   "execution_count": null,
   "metadata": {},
   "outputs": [],
   "source": [
    "pokemon_df.keys()"
   ]
  },
  {
   "cell_type": "code",
   "execution_count": null,
   "metadata": {},
   "outputs": [],
   "source": [
    "# For example:\n",
    "pokemon_df.drop(['Irrelevant','HP+100'], axis=1)"
   ]
  },
  {
   "cell_type": "code",
   "execution_count": null,
   "metadata": {},
   "outputs": [],
   "source": [
    "pokemon_df = pokemon_df.drop(['Irrelevant','HP+100'], axis=1)\n",
    "# Now the NANs are not in every row anymore! see the result.\n",
    "pokemon_df.dropna()"
   ]
  },
  {
   "cell_type": "markdown",
   "metadata": {},
   "source": [
    "Exercise: compare the lengths of the dataframe before and after dropping the missing values. "
   ]
  },
  {
   "cell_type": "code",
   "execution_count": null,
   "metadata": {},
   "outputs": [],
   "source": []
  },
  {
   "cell_type": "markdown",
   "metadata": {},
   "source": [
    "Question: When is it appropriated to drop the missing values?"
   ]
  },
  {
   "cell_type": "code",
   "execution_count": null,
   "metadata": {},
   "outputs": [],
   "source": []
  },
  {
   "cell_type": "markdown",
   "metadata": {},
   "source": [
    "Exercise: make a pie chart showcasing the distribution of pokemon types."
   ]
  },
  {
   "cell_type": "code",
   "execution_count": null,
   "metadata": {},
   "outputs": [],
   "source": []
  },
  {
   "cell_type": "markdown",
   "metadata": {},
   "source": [
    "Exercise: which is the strongest pokemon?"
   ]
  },
  {
   "cell_type": "code",
   "execution_count": null,
   "metadata": {},
   "outputs": [],
   "source": []
  },
  {
   "cell_type": "markdown",
   "metadata": {},
   "source": [
    "Exercise: what is a boxplot?"
   ]
  },
  {
   "cell_type": "markdown",
   "metadata": {},
   "source": [
    "Exercise: make a box plot showcasing the different pokemon attacks."
   ]
  },
  {
   "cell_type": "code",
   "execution_count": null,
   "metadata": {},
   "outputs": [],
   "source": []
  },
  {
   "cell_type": "markdown",
   "metadata": {},
   "source": [
    "If you want to dive into pandas and machine learning I recommend using [Kaggle](https://www.kaggle.com/). This platform contains a multitude of interactive tutorials that can facilitate your learning process."
   ]
  },
  {
   "cell_type": "code",
   "execution_count": null,
   "metadata": {},
   "outputs": [],
   "source": [
    "import seaborn as sns\n",
    "\n",
    "sns.set()"
   ]
  },
  {
   "cell_type": "code",
   "execution_count": null,
   "metadata": {},
   "outputs": [],
   "source": [
    "fig, axes = plt.subplots(nrows=1, ncols=1, figsize=(10, 6))\n",
    "\n",
    "axes.scatter(x=pokemon_df[pokemon_df['Type 1'] == 'Fire']['Attack'],\n",
    "             y=pokemon_df[pokemon_df['Type 1'] == 'Fire']['Defense'],\n",
    "             s=1, \n",
    "             color='red')\n",
    "axes.scatter(x=pokemon_df[pokemon_df['Type 1'] == 'Grass']['Attack'],\n",
    "             y=pokemon_df[pokemon_df['Type 1'] == 'Grass']['Defense'],\n",
    "             s=1, \n",
    "             color='green')"
   ]
  },
  {
   "cell_type": "code",
   "execution_count": null,
   "metadata": {},
   "outputs": [],
   "source": [
    "pokemon_df.describe()"
   ]
  },
  {
   "cell_type": "code",
   "execution_count": null,
   "metadata": {},
   "outputs": [],
   "source": [
    "sns.boxplot(x=pokemon_df['Attack'])\n"
   ]
  },
  {
   "cell_type": "code",
   "execution_count": null,
   "metadata": {},
   "outputs": [],
   "source": [
    "pokemon_df['Type 1'].apply(pd.value_counts).plot.pie(subplots=True)"
   ]
  },
  {
   "cell_type": "code",
   "execution_count": null,
   "metadata": {},
   "outputs": [],
   "source": [
    "pokemon_df.head()"
   ]
  },
  {
   "cell_type": "code",
   "execution_count": null,
   "metadata": {},
   "outputs": [],
   "source": [
    "pokemon_df['Type 1'].value_counts()"
   ]
  },
  {
   "cell_type": "code",
   "execution_count": null,
   "metadata": {},
   "outputs": [],
   "source": [
    "pokemon_df['Type 1'].value_counts().plot(kind='pie')"
   ]
  },
  {
   "cell_type": "code",
   "execution_count": null,
   "metadata": {},
   "outputs": [],
   "source": [
    "fig, axes = plt.subplots(nrows=1, ncols=2, figsize=(20, 10))\n",
    "\n",
    "pokemon_df['Type 1'].value_counts().plot(kind='pie', ax=axes[0])\n",
    "\n",
    "pokemon_df['Type 2'].value_counts().plot(kind='pie', ax=axes[1])\n",
    "\n",
    "axes[0].set_ylabel('')\n",
    "axes[1].set_ylabel('')\n",
    "fig.suptitle('Test')\n",
    "plt.tight_layout()"
   ]
  },
  {
   "cell_type": "code",
   "execution_count": null,
   "metadata": {},
   "outputs": [],
   "source": [
    "pokemon_df['Type 1'].value_counts().plot(kind='pie')"
   ]
  },
  {
   "cell_type": "code",
   "execution_count": null,
   "metadata": {},
   "outputs": [],
   "source": []
  }
 ],
 "metadata": {
  "kernelspec": {
   "display_name": "Python 3 (ipykernel)",
   "language": "python",
   "name": "python3"
  },
  "language_info": {
   "codemirror_mode": {
    "name": "ipython",
    "version": 3
   },
   "file_extension": ".py",
   "mimetype": "text/x-python",
   "name": "python",
   "nbconvert_exporter": "python",
   "pygments_lexer": "ipython3",
   "version": "3.9.13"
  }
 },
 "nbformat": 4,
 "nbformat_minor": 4
}
