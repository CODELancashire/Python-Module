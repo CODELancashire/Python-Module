{
 "cells": [
  {
   "cell_type": "markdown",
   "id": "c552aa56",
   "metadata": {},
   "source": [
    "For this homework we will be exploring a data science job salaries dataset.\n",
    "\n",
    "The objective is to create a classifier that is able to infer the salary tier (i.e., if the salary is \"low\", \"medium, \"high, or any other sort of tiers you want to come up with).\n",
    "\n",
    "For that then it will be necessary to encode the salary in different categories first.\n",
    "\n",
    "Remember that you will need to understand the data, clean the data, separate a training and test sets and, finally, test different models with different parameters.\n",
    "\n",
    "As usual, it is not a hard requirement to work with this dataset. On [Kaggle Datasets](https://www.kaggle.com/datasets) you can search for a dataset of your interesting (hint: remember to filter for datasets that are more suitable for classification problems)."
   ]
  },
  {
   "cell_type": "code",
   "execution_count": null,
   "id": "c7f2e1da",
   "metadata": {},
   "outputs": [],
   "source": []
  }
 ],
 "metadata": {
  "kernelspec": {
   "display_name": "Python 3 (ipykernel)",
   "language": "python",
   "name": "python3"
  },
  "language_info": {
   "codemirror_mode": {
    "name": "ipython",
    "version": 3
   },
   "file_extension": ".py",
   "mimetype": "text/x-python",
   "name": "python",
   "nbconvert_exporter": "python",
   "pygments_lexer": "ipython3",
   "version": "3.10.8"
  }
 },
 "nbformat": 4,
 "nbformat_minor": 5
}
